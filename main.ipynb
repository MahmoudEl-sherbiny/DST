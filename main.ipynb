{
 "cells": [
  {
   "cell_type": "code",
   "execution_count": 27,
   "metadata": {},
   "outputs": [],
   "source": [
    "from pymongo import MongoClient\n",
    "from pprint import pprint"
   ]
  },
  {
   "cell_type": "code",
   "execution_count": 28,
   "metadata": {},
   "outputs": [],
   "source": [
    "client = MongoClient()\n",
    "db=client.FCDS\n",
    "\n",
    "employees = db.employees\n",
    "students = db.students\n"
   ]
  },
  {
   "cell_type": "code",
   "execution_count": 29,
   "metadata": {},
   "outputs": [
    {
     "data": {
      "text/plain": [
       "InsertOneResult(ObjectId('67502dc8d638e66818e7808d'), acknowledged=True)"
      ]
     },
     "execution_count": 29,
     "metadata": {},
     "output_type": "execute_result"
    }
   ],
   "source": [
    "employee_details = {\n",
    "'Name': 'Hagar Nassar',\n",
    "'Address': 'Alexandria, Egypt',\n",
    "'Age': 29,\n",
    "'salary': \"3000$\"\n",
    " }\n",
    "\n",
    "employees.insert_one(employee_details)\n",
    "\n"
   ]
  },
  {
   "cell_type": "code",
   "execution_count": 30,
   "metadata": {},
   "outputs": [
    {
     "data": {
      "text/plain": [
       "InsertOneResult(ObjectId('67502dc9d638e66818e7808e'), acknowledged=True)"
      ]
     },
     "execution_count": 30,
     "metadata": {},
     "output_type": "execute_result"
    }
   ],
   "source": [
    "student_details = {\n",
    "'Name': 'Mahmoud Elsherbiny',\n",
    "'Address': 'Alexandria, Egypt',\n",
    "'Age': 21\n",
    " }\n",
    "\n",
    "students.insert_one(student_details)"
   ]
  },
  {
   "cell_type": "code",
   "execution_count": 31,
   "metadata": {},
   "outputs": [
    {
     "data": {
      "text/plain": [
       "{'_id': ObjectId('67502dc9d638e66818e7808e'),\n",
       " 'Name': 'Mahmoud Elsherbiny',\n",
       " 'Address': 'Alexandria, Egypt',\n",
       " 'Age': 21}"
      ]
     },
     "execution_count": 31,
     "metadata": {},
     "output_type": "execute_result"
    }
   ],
   "source": [
    "students.find_one({\"Name\":\"Mahmoud Elsherbiny\"})"
   ]
  },
  {
   "cell_type": "code",
   "execution_count": 32,
   "metadata": {},
   "outputs": [
    {
     "data": {
      "text/plain": [
       "UpdateResult({'n': 1, 'nModified': 1, 'ok': 1.0, 'updatedExisting': True}, acknowledged=True)"
      ]
     },
     "execution_count": 32,
     "metadata": {},
     "output_type": "execute_result"
    }
   ],
   "source": [
    "students.update_one({\"Name\":\"Mahmoud Elsherbiny\"},\n",
    "                    {\n",
    "                        \"$set\":{\n",
    "                            \"Department\":\"Computing & Data Science\"\n",
    "                        }\n",
    "                    })\n"
   ]
  },
  {
   "cell_type": "code",
   "execution_count": 33,
   "metadata": {},
   "outputs": [
    {
     "data": {
      "text/plain": [
       "InsertManyResult([ObjectId('67502dced638e66818e7808f'), ObjectId('67502dced638e66818e78090'), ObjectId('67502dced638e66818e78091'), ObjectId('67502dced638e66818e78092'), ObjectId('67502dced638e66818e78093')], acknowledged=True)"
      ]
     },
     "execution_count": 33,
     "metadata": {},
     "output_type": "execute_result"
    }
   ],
   "source": [
    "students_details=[\n",
    "    {\n",
    "        'Name': 'Omar Hassan',\n",
    "        'Address': 'Alexandria, Egypt',\n",
    "        'Age': 20,\n",
    "        \"Department\":\"Computing & Data Science\",\n",
    "        \"ID\":\"22010222\"\n",
    "    },\n",
    "    {\n",
    "        'Name': 'Ali Alaa',\n",
    "        'Address': 'Alexandria, Egypt',\n",
    "        'Age': 20,\n",
    "        \"Department\":\"Computing & Data Science\",\n",
    "        \"ID\":\"22010333\"\n",
    "    },\n",
    "    {\n",
    "        'Name': 'Moaz Ahmed',\n",
    "        'Address': 'Alexandria, Egypt',\n",
    "        'Age': 20,\n",
    "        \"Department\":\"Computing & Data Science\",\n",
    "        \"ID\":\"22010444\"\n",
    "    },\n",
    "    {\n",
    "        'Name': 'Abdelrhamn Ahmed',\n",
    "        'Address': 'Alexandria, Egypt',\n",
    "        'Age': 20,\n",
    "        \"Department\":\"Computing & Data Science\",\n",
    "        \"ID\":\"22010555\"\n",
    "    },\n",
    "    {\n",
    "        'Name': 'Mostafa Mahmoud',\n",
    "        'Address': 'Alexandria, Egypt',\n",
    "        'Age': 21,\n",
    "        \"Department\":\"Cyber Security\",\n",
    "        \"ID\":\"22010666\"\n",
    "    }\n",
    "]\n",
    "\n",
    "students.insert_many(students_details)"
   ]
  },
  {
   "cell_type": "code",
   "execution_count": 34,
   "metadata": {},
   "outputs": [
    {
     "data": {
      "text/plain": [
       "InsertManyResult([ObjectId('67502dcfd638e66818e78094'), ObjectId('67502dcfd638e66818e78095'), ObjectId('67502dcfd638e66818e78096'), ObjectId('67502dcfd638e66818e78097'), ObjectId('67502dcfd638e66818e78098'), ObjectId('67502dcfd638e66818e78099'), ObjectId('67502dcfd638e66818e7809a'), ObjectId('67502dcfd638e66818e7809b'), ObjectId('67502dcfd638e66818e7809c')], acknowledged=True)"
      ]
     },
     "execution_count": 34,
     "metadata": {},
     "output_type": "execute_result"
    }
   ],
   "source": [
    "employees_details=[\n",
    "  {\n",
    "    \"Name\": \"Sarah Johnson\",\n",
    "    \"Address\": \"123 Elm Street, Springfield, IL\",\n",
    "    \"Age\": 28,\n",
    "    'salary': \"3000$\"\n",
    "  },\n",
    "  {\n",
    "    \"Name\": \"James Smith\",\n",
    "    \"Address\": \"45 Maple Avenue, Boston, MA\",\n",
    "    \"Age\": 34,\n",
    "    'salary': \"3000$\"\n",
    "  },\n",
    "  {\n",
    "    \"Name\": \"Emily Davis\",\n",
    "    \"Address\": \"789 Oak Lane, Austin, TX\",\n",
    "    \"Age\": 23,\n",
    "    'salary': \"3000$\"\n",
    "  },\n",
    "  {\n",
    "    \"Name\": \"Michael Brown\",\n",
    "    \"Address\": \"56 Pine Drive, Seattle, WA\",\n",
    "    \"Age\": 40,\n",
    "    'salary': \"3000$\"\n",
    "  },\n",
    "  {\n",
    "    \"Name\": \"Sophia Wilson\",\n",
    "    \"Address\": \"98 Birch Street, Denver, CO\",\n",
    "    \"Age\": 29,\n",
    "    'salary': \"3000$\"\n",
    "  },\n",
    "  {\n",
    "    \"Name\": \"William Taylor\",\n",
    "    \"Address\": \"12 Willow Road, Miami, FL\",\n",
    "    \"Age\": 36,\n",
    "    'salary': \"3000$\"\n",
    "  },\n",
    "  {\n",
    "    \"Name\": \"Olivia Anderson\",\n",
    "    \"Address\": \"67 Cedar Circle, Nashville, TN\",\n",
    "    \"Age\": 25,\n",
    "    'salary': \"3000$\"\n",
    "  },\n",
    "  {\n",
    "    \"Name\": \"Benjamin White\",\n",
    "    \"Address\": \"34 Spruce Terrace, Chicago, IL\",\n",
    "    \"Age\": 41,\n",
    "    'salary': \"3000$\"\n",
    "  },\n",
    "  {\n",
    "    \"Name\": \"Mia Martinez\",\n",
    "    \"Address\": \"89 Redwood Court, San Diego, CA\",\n",
    "    \"Age\": 30,\n",
    "    'salary': \"3000$\"\n",
    "  }\n",
    "]\n",
    "\n",
    "employees.insert_many(employees_details)"
   ]
  },
  {
   "cell_type": "code",
   "execution_count": 35,
   "metadata": {},
   "outputs": [
    {
     "data": {
      "text/plain": [
       "DeleteResult({'n': 1, 'ok': 1.0}, acknowledged=True)"
      ]
     },
     "execution_count": 35,
     "metadata": {},
     "output_type": "execute_result"
    }
   ],
   "source": [
    "employees.delete_one({\"Name\":\"Mia Martinez\"})"
   ]
  },
  {
   "cell_type": "code",
   "execution_count": 36,
   "metadata": {},
   "outputs": [
    {
     "name": "stdout",
     "output_type": "stream",
     "text": [
      "None\n"
     ]
    }
   ],
   "source": [
    "print(employees.find_one({\"Name\":\"Mia Martinez\"}))"
   ]
  },
  {
   "cell_type": "code",
   "execution_count": 37,
   "metadata": {},
   "outputs": [
    {
     "data": {
      "text/plain": [
       "DeleteResult({'n': 3, 'ok': 1.0}, acknowledged=True)"
      ]
     },
     "execution_count": 37,
     "metadata": {},
     "output_type": "execute_result"
    }
   ],
   "source": [
    "employees.delete_many({ \"Age\": { \"$gt\": 35 } })"
   ]
  },
  {
   "cell_type": "code",
   "execution_count": 38,
   "metadata": {},
   "outputs": [
    {
     "name": "stdout",
     "output_type": "stream",
     "text": [
      "None\n"
     ]
    }
   ],
   "source": [
    "print(employees.find_one({\"Age\": 41}))"
   ]
  },
  {
   "cell_type": "code",
   "execution_count": 39,
   "metadata": {},
   "outputs": [
    {
     "data": {
      "text/plain": [
       "UpdateResult({'n': 1, 'nModified': 1, 'ok': 1.0, 'updatedExisting': True}, acknowledged=True)"
      ]
     },
     "execution_count": 39,
     "metadata": {},
     "output_type": "execute_result"
    }
   ],
   "source": [
    "employees.update_many( { \"Age\": { \"$gt\": 30 } },\n",
    "  { \"$set\":\n",
    "    { \"salary\": \"4000$\" } \n",
    "  })"
   ]
  },
  {
   "cell_type": "code",
   "execution_count": 40,
   "metadata": {},
   "outputs": [
    {
     "data": {
      "text/plain": [
       "UpdateResult({'n': 1, 'nModified': 1, 'ok': 1.0, 'updatedExisting': True}, acknowledged=True)"
      ]
     },
     "execution_count": 40,
     "metadata": {},
     "output_type": "execute_result"
    }
   ],
   "source": [
    "employees.update_one( { 'Name': 'Hagar Nassar' },\n",
    "  { \"$set\":\n",
    "    { \n",
    "     \"salary\":\"5000$\"}\n",
    "      \n",
    "  })"
   ]
  },
  {
   "cell_type": "code",
   "execution_count": 41,
   "metadata": {},
   "outputs": [
    {
     "name": "stdout",
     "output_type": "stream",
     "text": [
      "{'Address': 'Alexandria, Egypt',\n",
      " 'Age': 29,\n",
      " 'Name': 'Hagar Nassar',\n",
      " '_id': ObjectId('67502dc8d638e66818e7808d'),\n",
      " 'salary': '5000$'}\n",
      "{'Address': '123 Elm Street, Springfield, IL',\n",
      " 'Age': 28,\n",
      " 'Name': 'Sarah Johnson',\n",
      " '_id': ObjectId('67502dcfd638e66818e78094'),\n",
      " 'salary': '3000$'}\n",
      "{'Address': '45 Maple Avenue, Boston, MA',\n",
      " 'Age': 34,\n",
      " 'Name': 'James Smith',\n",
      " '_id': ObjectId('67502dcfd638e66818e78095'),\n",
      " 'salary': '4000$'}\n",
      "{'Address': '789 Oak Lane, Austin, TX',\n",
      " 'Age': 23,\n",
      " 'Name': 'Emily Davis',\n",
      " '_id': ObjectId('67502dcfd638e66818e78096'),\n",
      " 'salary': '3000$'}\n",
      "{'Address': '98 Birch Street, Denver, CO',\n",
      " 'Age': 29,\n",
      " 'Name': 'Sophia Wilson',\n",
      " '_id': ObjectId('67502dcfd638e66818e78098'),\n",
      " 'salary': '3000$'}\n",
      "{'Address': '67 Cedar Circle, Nashville, TN',\n",
      " 'Age': 25,\n",
      " 'Name': 'Olivia Anderson',\n",
      " '_id': ObjectId('67502dcfd638e66818e7809a'),\n",
      " 'salary': '3000$'}\n"
     ]
    }
   ],
   "source": [
    "# Fetch and print all documents with pretty format\n",
    "for employee in employees.find():\n",
    "    pprint(employee)"
   ]
  },
  {
   "cell_type": "code",
   "execution_count": 42,
   "metadata": {},
   "outputs": [
    {
     "data": {
      "text/plain": [
       "Collection(Database(MongoClient(host=['localhost:27017'], document_class=dict, tz_aware=False, connect=True), 'FCDS'), 'Courses')"
      ]
     },
     "execution_count": 42,
     "metadata": {},
     "output_type": "execute_result"
    }
   ],
   "source": [
    "db.create_collection(\"Courses\")"
   ]
  },
  {
   "cell_type": "code",
   "execution_count": 43,
   "metadata": {},
   "outputs": [],
   "source": [
    "courses= db.Courses"
   ]
  },
  {
   "cell_type": "code",
   "execution_count": 44,
   "metadata": {},
   "outputs": [
    {
     "data": {
      "text/plain": [
       "InsertManyResult([ObjectId('67502ddfd638e66818e7809d'), ObjectId('67502ddfd638e66818e7809e'), ObjectId('67502ddfd638e66818e7809f')], acknowledged=True)"
      ]
     },
     "execution_count": 44,
     "metadata": {},
     "output_type": "execute_result"
    }
   ],
   "source": [
    "courses_details =[{\n",
    "                     \"course_name\":\"linear Algebra\",\n",
    "                     \"course_ID\":10001\n",
    "                   },\n",
    "                   {\n",
    "                       \"course_name\":\"Probability I\",\n",
    "                       \"course_ID\":10002\n",
    "                   },\n",
    "                   {   \"course_name\":\"Calculus\",\n",
    "                       \"course_ID\":10003\n",
    "                   }]\n",
    "\n",
    "courses.insert_many(courses_details)"
   ]
  },
  {
   "cell_type": "code",
   "execution_count": 45,
   "metadata": {},
   "outputs": [
    {
     "data": {
      "text/plain": [
       "{'nIndexesWas': 1, 'ns': 'FCDS.Courses', 'ok': 1.0}"
      ]
     },
     "execution_count": 45,
     "metadata": {},
     "output_type": "execute_result"
    }
   ],
   "source": [
    "db.drop_collection(\"Courses\")"
   ]
  },
  {
   "cell_type": "code",
   "execution_count": null,
   "metadata": {},
   "outputs": [],
   "source": []
  }
 ],
 "metadata": {
  "kernelspec": {
   "display_name": "Python 3",
   "language": "python",
   "name": "python3"
  },
  "language_info": {
   "codemirror_mode": {
    "name": "ipython",
    "version": 3
   },
   "file_extension": ".py",
   "mimetype": "text/x-python",
   "name": "python",
   "nbconvert_exporter": "python",
   "pygments_lexer": "ipython3",
   "version": "3.12.4"
  }
 },
 "nbformat": 4,
 "nbformat_minor": 2
}
